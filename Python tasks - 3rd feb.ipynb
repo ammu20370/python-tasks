{
 "cells": [
  {
   "cell_type": "code",
   "execution_count": 1,
   "id": "05e05f88",
   "metadata": {},
   "outputs": [
    {
     "name": "stdout",
     "output_type": "stream",
     "text": [
      "Please write your name: Alamelu\n",
      "Enter age24\n",
      "You will be 100 yrs in 2098\n"
     ]
    }
   ],
   "source": [
    "#1\n",
    "name = input(\"Please write your name: \")\n",
    "age = int(input(\"Enter age\"))\n",
    "currentyear = 2022\n",
    "year = str((currentyear-age) + 100)\n",
    "print(\"You will be 100 yrs in \" + year)\n"
   ]
  },
  {
   "cell_type": "code",
   "execution_count": 3,
   "id": "deafefd6",
   "metadata": {},
   "outputs": [
    {
     "name": "stdout",
     "output_type": "stream",
     "text": [
      "it is odd\n"
     ]
    }
   ],
   "source": [
    "#2\n",
    "#you can get input from user too\n",
    "num = 45\n",
    "if (num % 2) == 0:\n",
    "    print(\"it is even\")\n",
    "else: \n",
    "    print(\"it is odd\")"
   ]
  },
  {
   "cell_type": "code",
   "execution_count": 9,
   "id": "7e7a3769",
   "metadata": {},
   "outputs": [
    {
     "name": "stdout",
     "output_type": "stream",
     "text": [
      "1\n",
      "1\n",
      "2\n",
      "3\n",
      "4.5\n"
     ]
    }
   ],
   "source": [
    "#3\n",
    "numlist = [1, 1, 2, 3, 5, 8, 13, 21, 34, 55, 89,4.5]\n",
    "\n",
    "# basic problem:\n",
    "for x in numlist:\n",
    "    if x< 5: \n",
    "        print(x)\n",
    "\n"
   ]
  },
  {
   "cell_type": "code",
   "execution_count": 11,
   "id": "6e81645a",
   "metadata": {},
   "outputs": [
    {
     "name": "stdout",
     "output_type": "stream",
     "text": [
      "[1]\n",
      "[1, 1]\n",
      "[1, 1, 2]\n",
      "[1, 1, 2, 3]\n",
      "[1, 1, 2, 3, 4.5]\n"
     ]
    }
   ],
   "source": [
    "#another solution - continuation\n",
    "newlist = []\n",
    "for num in numlist:\n",
    "    if num < 5: #Compare numbers in list for less than 5\n",
    "        newlist.append(num) #Add numbers that are less than 5 to our list one by one\n",
    "        newlist.sort() # Sort the list\n",
    "        print(newlist)"
   ]
  },
  {
   "cell_type": "code",
   "execution_count": 12,
   "id": "4dbf9716",
   "metadata": {},
   "outputs": [
    {
     "name": "stdout",
     "output_type": "stream",
     "text": [
      "divisors of 100 are: \n",
      "1 2 4 5 10 20 25 50 "
     ]
    }
   ],
   "source": [
    "#4 divisors of a number\n",
    "#========================\n",
    "def divisors(n):\n",
    "    i = 1\n",
    "    while i<n:\n",
    "        if (n%i==0):\n",
    "            print(i,end=\" \")\n",
    "        i = i+1\n",
    "print(\"divisors of 100 are: \")\n",
    "\n",
    "#INVOKE function to print divisors\n",
    "divisors(100)"
   ]
  },
  {
   "cell_type": "code",
   "execution_count": 14,
   "id": "1e2cf6d6",
   "metadata": {},
   "outputs": [
    {
     "name": "stdout",
     "output_type": "stream",
     "text": [
      "[2, 3, 15, 31]\n"
     ]
    }
   ],
   "source": [
    "#5 Taking two lists and printing elements that are common in both without duplicates\n",
    "a = [44 ,2,3,4,5,15,17,82,31]\n",
    "b = [2,3,15,34,56,7,9,31,29]\n",
    "newlist = []\n",
    "\n",
    "for num in a:\n",
    "    if num in b:\n",
    "        newlist.append(num)\n",
    "#if you print inside, it will show insertions inside one-by-one\n",
    "print(newlist)"
   ]
  },
  {
   "cell_type": "code",
   "execution_count": 16,
   "id": "18bb7aa0",
   "metadata": {},
   "outputs": [
    {
     "name": "stdout",
     "output_type": "stream",
     "text": [
      "Enter the value : malayalam\n",
      "Value entered is palindrome\n"
     ]
    }
   ],
   "source": [
    "#6 palindrome or not\n",
    "\n",
    "s = input(\"Enter the value : \")\n",
    "    # reverse the entire string \n",
    "reverse = s[::-1]\n",
    "\n",
    "if(s==reverse):\n",
    "    print(\"Value entered is palindrome\")\n",
    "else:\n",
    "    print(\"Value entered is not a palindrome\")\n",
    "    \n",
    "\n",
    "\n",
    "\n"
   ]
  },
  {
   "cell_type": "code",
   "execution_count": 17,
   "id": "3fe3457f",
   "metadata": {},
   "outputs": [
    {
     "name": "stdout",
     "output_type": "stream",
     "text": [
      "4\n",
      "16\n",
      "36\n",
      "64\n",
      "100\n"
     ]
    }
   ],
   "source": [
    "#7 Write one line of Python that takes this list a and makes a new list that has only the even elements of this list in it.\n",
    "a = [1, 4, 9, 16, 25, 36, 49, 64, 81, 100]\n",
    "for i in a:\n",
    "    if (i%2)==0:\n",
    "        print(i)"
   ]
  },
  {
   "cell_type": "code",
   "execution_count": 20,
   "id": "e10b7dd3",
   "metadata": {},
   "outputs": [
    {
     "name": "stdout",
     "output_type": "stream",
     "text": [
      "[4, 16, 36, 64, 100]\n"
     ]
    }
   ],
   "source": [
    "#list comprehension\n",
    "a =[1, 4, 9, 16, 25, 36, 49, 64, 81, 100]\n",
    "b = [num for num in a if num%2 == 0]\n",
    "print(b)"
   ]
  },
  {
   "cell_type": "code",
   "execution_count": 23,
   "id": "9b1cbf6b",
   "metadata": {},
   "outputs": [
    {
     "name": "stdout",
     "output_type": "stream",
     "text": [
      "Enter a choice (rock, paper, scissors): paper\n",
      "\n",
      "You chose paper, computer chose scissors.\n",
      "\n",
      "Scissors cuts paper! You lose.\n"
     ]
    }
   ],
   "source": [
    "#8 rock,paper,scissors\n",
    "import random\n",
    "\n",
    "useraction = input(\"Enter a choice (rock, paper, scissors): \")\n",
    "possible_actions = [\"rock\", \"paper\", \"scissors\"]\n",
    "#randomley computer takes a choice\n",
    "computer_action = random.choice(possible_actions)\n",
    "\n",
    "print(f\"\\nYou chose {useraction}, computer chose {computer_action}.\\n\")\n",
    "\n",
    "if useraction == computer_action:\n",
    "    print(f\"Both players selected {useraction}. It's a tie!\")\n",
    "elif useraction == \"rock\":\n",
    "    if computer_action == \"scissors\":\n",
    "        print(\"Rock smashes scissors! You win!\")\n",
    "    else:\n",
    "        print(\"Paper covers rock! You lose.\")\n",
    "elif useraction == \"paper\":\n",
    "    if computer_action == \"rock\":\n",
    "        print(\"Paper covers rock! You win!\")\n",
    "    else:\n",
    "        print(\"Scissors cuts paper! You lose.\")\n",
    "elif useraction == \"scissors\":\n",
    "    if computer_action == \"paper\":\n",
    "        print(\"Scissors cuts paper! You win!\")\n",
    "    else:\n",
    "        print(\"Rock smashes scissors! You lose.\")"
   ]
  },
  {
   "cell_type": "code",
   "execution_count": null,
   "id": "0ecd6522",
   "metadata": {},
   "outputs": [],
   "source": []
  }
 ],
 "metadata": {
  "kernelspec": {
   "display_name": "Python 3",
   "language": "python",
   "name": "python3"
  },
  "language_info": {
   "codemirror_mode": {
    "name": "ipython",
    "version": 3
   },
   "file_extension": ".py",
   "mimetype": "text/x-python",
   "name": "python",
   "nbconvert_exporter": "python",
   "pygments_lexer": "ipython3",
   "version": "3.8.8"
  }
 },
 "nbformat": 4,
 "nbformat_minor": 5
}
